{
 "cells": [
  {
   "cell_type": "code",
   "execution_count": 23,
   "id": "e97fcc77-6028-4822-a3a7-014c2da4eece",
   "metadata": {
    "tags": []
   },
   "outputs": [
    {
     "ename": "FileNotFoundError",
     "evalue": "[Errno 2] No such file or directory: './/Data//alignment_data//nicedata//phiRotTest20231016_164658_phi.npy'",
     "output_type": "error",
     "traceback": [
      "\u001b[0;31m---------------------------------------------------------------------------\u001b[0m",
      "\u001b[0;31mFileNotFoundError\u001b[0m                         Traceback (most recent call last)",
      "Cell \u001b[0;32mIn[23], line 51\u001b[0m\n\u001b[1;32m     49\u001b[0m ddB_phi \u001b[38;5;241m=\u001b[39m []\n\u001b[1;32m     50\u001b[0m \u001b[38;5;28;01mfor\u001b[39;00m filename \u001b[38;5;129;01min\u001b[39;00m files_phi:\n\u001b[0;32m---> 51\u001b[0m     dataphi_i \u001b[38;5;241m=\u001b[39m np\u001b[38;5;241m.\u001b[39mtranspose(\u001b[43mnp\u001b[49m\u001b[38;5;241;43m.\u001b[39;49m\u001b[43mload\u001b[49m\u001b[43m(\u001b[49m\u001b[43mloaddirectory_phi\u001b[49m\u001b[38;5;241;43m+\u001b[39;49m\u001b[43mfilename\u001b[49m\u001b[43m)\u001b[49m)\n\u001b[1;32m     52\u001b[0m     \u001b[38;5;66;03m#just get the data to plot\u001b[39;00m\n\u001b[1;32m     53\u001b[0m     x1_i, x2_i, x3_i, phi_i, c_i, l_i, v_i \u001b[38;5;241m=\u001b[39m dataphi_i\n",
      "File \u001b[0;32m/opt/conda/envs/jupyter_py3/lib/python3.9/site-packages/numpy/lib/npyio.py:405\u001b[0m, in \u001b[0;36mload\u001b[0;34m(file, mmap_mode, allow_pickle, fix_imports, encoding, max_header_size)\u001b[0m\n\u001b[1;32m    403\u001b[0m     own_fid \u001b[38;5;241m=\u001b[39m \u001b[38;5;28;01mFalse\u001b[39;00m\n\u001b[1;32m    404\u001b[0m \u001b[38;5;28;01melse\u001b[39;00m:\n\u001b[0;32m--> 405\u001b[0m     fid \u001b[38;5;241m=\u001b[39m stack\u001b[38;5;241m.\u001b[39menter_context(\u001b[38;5;28;43mopen\u001b[39;49m\u001b[43m(\u001b[49m\u001b[43mos_fspath\u001b[49m\u001b[43m(\u001b[49m\u001b[43mfile\u001b[49m\u001b[43m)\u001b[49m\u001b[43m,\u001b[49m\u001b[43m \u001b[49m\u001b[38;5;124;43m\"\u001b[39;49m\u001b[38;5;124;43mrb\u001b[39;49m\u001b[38;5;124;43m\"\u001b[39;49m\u001b[43m)\u001b[49m)\n\u001b[1;32m    406\u001b[0m     own_fid \u001b[38;5;241m=\u001b[39m \u001b[38;5;28;01mTrue\u001b[39;00m\n\u001b[1;32m    408\u001b[0m \u001b[38;5;66;03m# Code to distinguish from NumPy binary files and pickles.\u001b[39;00m\n",
      "\u001b[0;31mFileNotFoundError\u001b[0m: [Errno 2] No such file or directory: './/Data//alignment_data//nicedata//phiRotTest20231016_164658_phi.npy'"
     ]
    }
   ],
   "source": [
    "import numpy as np\n",
    "import matplotlib.pyplot as plt\n",
    "from scipy.optimize import curve_fit\n",
    "import math\n",
    "import sympy as sp\n",
    "import time\n",
    "import os\n",
    "import statistics\n",
    "\n",
    "import numpy as np\n",
    "import matplotlib.pyplot as plt\n",
    "from scipy.optimize import curve_fit\n",
    "import math\n",
    "import sympy as sp\n",
    "import time\n",
    "import os\n",
    "import statistics\n",
    "\n",
    "\n",
    "#from AH2550A import AH2550A\n",
    "#from AbsorberAttractorAssembly import *\n",
    "\n",
    "\n",
    "filename_all_phi = 'Merge_'+'phi_'+time.strftime('%Y%m%d_%H%M%S')\n",
    "dAdB_phi = 'dAdB_'+'phi_'+time.strftime('%Y%m%d_%H%M%S')\n",
    "filename_all_theta = 'Merge_'+'theta_'+time.strftime('%Y%m%d_%H%M%S')\n",
    "\n",
    "savedirectory = '..\\\\Data\\\\'+time.strftime(\"%Y%m%d\")+'\\\\'\n",
    "if not os.path.isdir(savedirectory): os.mkdir(savedirectory)\n",
    "\n",
    "epsilon = 8.8541878128e-12 \n",
    "r = 1.25/2*2.54/100   #0.015875\n",
    "\n",
    "#/Data/alignment_data/nicedata\n",
    "#/tree/mossbauer_notebooks/plate_alignment/meeting\n",
    "\n",
    "#put all plots into the same directory for phi\n",
    "#then load the directory\n",
    "loaddirectory_phi = './/Data//alignment_data//nicedata//phi'\n",
    "#list all files in the directory\n",
    "files_phi = os.listdir(loaddirectory_phi)\n",
    "#iterate over files\n",
    "i=0\n",
    "dA_phi = []\n",
    "dB_phi = []\n",
    "X_s_phi =[]\n",
    "X_c_phi = []\n",
    "ddA_phi = []\n",
    "ddB_phi = []\n",
    "for filename in files_phi:\n",
    "    dataphi_i = np.transpose(np.load(loaddirectory_phi+filename))\n",
    "    #just get the data to plot\n",
    "    x1_i, x2_i, x3_i, phi_i, c_i, l_i, v_i = dataphi_i\n",
    "    # print('x1_i', len(x1_i), x1_i)\n",
    "    #fit for the data\n",
    "    #fitting function\n",
    "    def func(angle, A, B, angle_0):\n",
    "        return A + B*(angle-angle_0)**2\n",
    "    initial_guess = [0, 0, 0]\n",
    "\n",
    "    #fit the data to the points\n",
    "    parameters, covariance = curve_fit(func, phi_i, c_i, p0=initial_guess)\n",
    "\n",
    "    #get fitted parameters\n",
    "    A_fit_i, B_fit_i, angle_0_fit_i = parameters\n",
    "\n",
    "\n",
    "    cA  = epsilon*math.pi*r**2\n",
    "    cB = (epsilon*math.pi*r**4/4)**(1/3)\n",
    "\n",
    "    dA_phi.append(cA/A_fit_i)\n",
    "    dB_phi.append(cB/B_fit_i**(1/3))\n",
    "    ddA_phi.append(cA/A_fit_i**2*np.sqrt(covariance[0,0]))\n",
    "    ddB_phi.append(cB/(3*B_fit_i**(2/3))*np.sqrt(covariance[1,1]))\n",
    "\n",
    "\n",
    "    plt.plot(phi_i*1e3, func(phi_i, A_fit_i, B_fit_i, angle_0_fit_i)*1e9, color = 'orange')\n",
    "\n",
    "    plt.plot(phi_i*1e3, c_i*1e9,'.', color = 'midnightblue') #label= '${:.2f} \\mu m $'.format(dA_phi[-1]*1e6)\n",
    "\n",
    "    plt.xlabel('phi [m rad]')\n",
    "    plt.ylabel('capacitance [nF]')\n",
    "    #plt.yscale('log')\n",
    "    # plt.legend()\n",
    "    plt.grid()\n",
    "   \n",
    "    \n",
    "\n",
    "    i+=1\n",
    "plt.show()\n",
    "plt.savefig(savedirectory+dAdB_phi + '.png')\n",
    "\n"
   ]
  },
  {
   "cell_type": "code",
   "execution_count": 24,
   "id": "30281741-2ad1-44b3-a159-e6e8912aee21",
   "metadata": {
    "tags": []
   },
   "outputs": [
    {
     "data": {
      "text/plain": [
       "['snap',\n",
       " 'cdrom',\n",
       " 'boot',\n",
       " 'jupyterhub_cookie_secret',\n",
       " 'tmp',\n",
       " 'opt',\n",
       " 'swapfile',\n",
       " 'var',\n",
       " 'script',\n",
       " 'sbin',\n",
       " 'proc',\n",
       " 'etc',\n",
       " 'lost+found',\n",
       " 'mnt',\n",
       " 'run',\n",
       " 'dev',\n",
       " 'sys',\n",
       " 'media',\n",
       " 'lib64',\n",
       " 'libx32',\n",
       " 'lib32',\n",
       " 'jupyterhub-proxy.pid',\n",
       " 'lib',\n",
       " 'root',\n",
       " 'srv',\n",
       " 'usr',\n",
       " 'home',\n",
       " 'bin',\n",
       " 'jupyterhub.sqlite']"
      ]
     },
     "execution_count": 24,
     "metadata": {},
     "output_type": "execute_result"
    }
   ],
   "source": [
    "os.listdir('..//..//')"
   ]
  },
  {
   "cell_type": "code",
   "execution_count": null,
   "id": "8ead096b-2a8d-4e79-bac5-4cbbe114ca8a",
   "metadata": {},
   "outputs": [],
   "source": []
  }
 ],
 "metadata": {
  "kernelspec": {
   "display_name": "Python 3.9 for JupyterHub",
   "language": "python",
   "name": "python3"
  },
  "language_info": {
   "codemirror_mode": {
    "name": "ipython",
    "version": 3
   },
   "file_extension": ".py",
   "mimetype": "text/x-python",
   "name": "python",
   "nbconvert_exporter": "python",
   "pygments_lexer": "ipython3",
   "version": "3.9.16"
  }
 },
 "nbformat": 4,
 "nbformat_minor": 5
}
