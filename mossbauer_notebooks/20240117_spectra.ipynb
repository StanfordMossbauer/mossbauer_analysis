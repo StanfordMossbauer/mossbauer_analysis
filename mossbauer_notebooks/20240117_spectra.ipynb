{
 "cells": [
  {
   "cell_type": "markdown",
   "id": "cc5d3c49-d1e8-4e0f-ad80-93e60f795413",
   "metadata": {
    "tags": []
   },
   "source": [
    "#### Analysis of spectra with IronMatrix source, SDD detector, alpha iron absorber"
   ]
  },
  {
   "cell_type": "code",
   "execution_count": 1,
   "id": "feb7f7c0-eb0f-4974-b358-e01704164f54",
   "metadata": {
    "scrolled": true,
    "tags": []
   },
   "outputs": [
    {
     "ename": "ModuleNotFoundError",
     "evalue": "No module named 'tqdm'",
     "output_type": "error",
     "traceback": [
      "\u001b[0;31m---------------------------------------------------------------------------\u001b[0m",
      "\u001b[0;31mModuleNotFoundError\u001b[0m                       Traceback (most recent call last)",
      "Cell \u001b[0;32mIn[1], line 28\u001b[0m\n\u001b[1;32m     24\u001b[0m \u001b[38;5;66;03m#from scipy.ndimage import gaussian_filter\u001b[39;00m\n\u001b[1;32m     26\u001b[0m \u001b[38;5;28;01mfrom\u001b[39;00m \u001b[38;5;21;01mos\u001b[39;00m\u001b[38;5;21;01m.\u001b[39;00m\u001b[38;5;21;01mpath\u001b[39;00m \u001b[38;5;28;01mimport\u001b[39;00m join\n\u001b[0;32m---> 28\u001b[0m \u001b[38;5;28;01mfrom\u001b[39;00m \u001b[38;5;21;01mtqdm\u001b[39;00m \u001b[38;5;28;01mimport\u001b[39;00m tqdm\n\u001b[1;32m     29\u001b[0m \u001b[38;5;66;03m#from mossbauer.materials import CobaltRhodiumMatrix, AlphaIron, PotassiumFerrocyanide\u001b[39;00m\n\u001b[1;32m     31\u001b[0m \u001b[38;5;28;01mimport\u001b[39;00m \u001b[38;5;21;01mmcareader\u001b[39;00m \u001b[38;5;28;01mas\u001b[39;00m \u001b[38;5;21;01mmca\u001b[39;00m\n",
      "\u001b[0;31mModuleNotFoundError\u001b[0m: No module named 'tqdm'"
     ]
    }
   ],
   "source": [
    "import matplotlib.pyplot as plt\n",
    "import matplotlib.dates as md\n",
    "import matplotlib\n",
    "%matplotlib inline \n",
    "%config InlineBackend.figure_format = 'retina'   # enable if you have a retina display\n",
    "\n",
    "plt.style.use('Joey')\n",
    "\n",
    "import numpy as np\n",
    "import pandas as pd\n",
    "#import scipy.stats as sps\n",
    "import datetime as datetime\n",
    "\n",
    "#import mossbauer\n",
    "#import utils as u\n",
    "\n",
    "#from scipy.integrate import simpson, quad, quad_vec\n",
    "#from scipy.special import jv\n",
    "#from scipy.interpolate import interp1d\n",
    "#from scipy.stats import norm\n",
    "from matplotlib import gridspec\n",
    "\n",
    "\n",
    "#from scipy.ndimage import gaussian_filter\n",
    "\n",
    "from os.path import join\n",
    "\n",
    "from tqdm import tqdm\n",
    "#from mossbauer.materials import CobaltRhodiumMatrix, AlphaIron, PotassiumFerrocyanide\n",
    "\n",
    "import mcareader as mca"
   ]
  },
  {
   "cell_type": "code",
   "execution_count": 2,
   "id": "efc16ce4-8463-411d-afb6-47bcde2f78c1",
   "metadata": {},
   "outputs": [
    {
     "name": "stdout",
     "output_type": "stream",
     "text": [
      "Defaulting to user installation because normal site-packages is not writeable\n",
      "Requirement already satisfied: mcareader in /home/mossbauer/.local/lib/python3.10/site-packages (0.4.0)\n",
      "Requirement already satisfied: numpy in /usr/local/lib/python3.10/dist-packages (from mcareader) (2.1.1)\n",
      "Requirement already satisfied: matplotlib in /usr/local/lib/python3.10/dist-packages (from mcareader) (3.9.2)\n",
      "Requirement already satisfied: scipy in /usr/lib/python3/dist-packages (from mcareader) (1.8.0)\n",
      "Requirement already satisfied: contourpy>=1.0.1 in /usr/local/lib/python3.10/dist-packages (from matplotlib->mcareader) (1.3.0)\n",
      "Requirement already satisfied: cycler>=0.10 in /usr/lib/python3/dist-packages (from matplotlib->mcareader) (0.11.0)\n",
      "Requirement already satisfied: fonttools>=4.22.0 in /usr/lib/python3/dist-packages (from matplotlib->mcareader) (4.29.1)\n",
      "Requirement already satisfied: kiwisolver>=1.3.1 in /usr/lib/python3/dist-packages (from matplotlib->mcareader) (1.3.2)\n",
      "Requirement already satisfied: packaging>=20.0 in /usr/local/lib/python3.10/dist-packages (from matplotlib->mcareader) (24.1)\n",
      "Requirement already satisfied: pillow>=8 in /usr/lib/python3/dist-packages (from matplotlib->mcareader) (9.0.1)\n",
      "Requirement already satisfied: pyparsing>=2.3.1 in /usr/lib/python3/dist-packages (from matplotlib->mcareader) (2.4.7)\n",
      "Requirement already satisfied: python-dateutil>=2.7 in /usr/local/lib/python3.10/dist-packages (from matplotlib->mcareader) (2.9.0.post0)\n",
      "Requirement already satisfied: six>=1.5 in /usr/lib/python3/dist-packages (from python-dateutil>=2.7->matplotlib->mcareader) (1.16.0)\n",
      "\n",
      "\u001b[1m[\u001b[0m\u001b[34;49mnotice\u001b[0m\u001b[1;39;49m]\u001b[0m\u001b[39;49m A new release of pip is available: \u001b[0m\u001b[31;49m23.1.2\u001b[0m\u001b[39;49m -> \u001b[0m\u001b[32;49m24.2\u001b[0m\n",
      "\u001b[1m[\u001b[0m\u001b[34;49mnotice\u001b[0m\u001b[1;39;49m]\u001b[0m\u001b[39;49m To update, run: \u001b[0m\u001b[32;49m/usr/bin/python3 -m pip install --upgrade pip\u001b[0m\n",
      "Note: you may need to restart the kernel to use updated packages.\n"
     ]
    }
   ],
   "source": [
    "pip install mcareader --upgrade"
   ]
  },
  {
   "cell_type": "code",
   "execution_count": null,
   "id": "079db3c5-9d7f-441d-912f-0d619d7fd845",
   "metadata": {
    "tags": []
   },
   "outputs": [],
   "source": [
    "datadir = '/home/mossbauer/Data/mossbauer_data/'\n",
    "fname1 = '20240117_spectra/live_data_20240116_1inch_Fe10um.mca'\n",
    "\n",
    "s1 = mca.Mca(datadir+fname1)\n",
    "x,y = s1.get_points(trim_zeros = False)\n",
    "t = float(s1.get_variable(\"REAL_TIME\"))\n",
    "\n",
    "plt.plot(x,y/t)\n",
    "plt.plot(x[215:250],y[215:250]/t)\n",
    "plt.yscale(\"log\")\n"
   ]
  },
  {
   "cell_type": "code",
   "execution_count": 3,
   "id": "836dbc32-9758-4e71-8d5f-c55f86ff38af",
   "metadata": {
    "tags": []
   },
   "outputs": [
    {
     "ename": "NameError",
     "evalue": "name 'mca' is not defined",
     "output_type": "error",
     "traceback": [
      "\u001b[0;31m---------------------------------------------------------------------------\u001b[0m",
      "\u001b[0;31mNameError\u001b[0m                                 Traceback (most recent call last)",
      "Cell \u001b[0;32mIn[3], line 5\u001b[0m\n\u001b[1;32m      1\u001b[0m datadir \u001b[38;5;241m=\u001b[39m \u001b[38;5;124m'\u001b[39m\u001b[38;5;124m/home/mossbauer/Data/mossbauer_data/\u001b[39m\u001b[38;5;124m'\u001b[39m\n\u001b[1;32m      4\u001b[0m fname \u001b[38;5;241m=\u001b[39m \u001b[38;5;124m'\u001b[39m\u001b[38;5;124m20240117_spectra/live_data_20240116_1inch_Fe10um.mca\u001b[39m\u001b[38;5;124m'\u001b[39m\n\u001b[0;32m----> 5\u001b[0m s \u001b[38;5;241m=\u001b[39m \u001b[43mmca\u001b[49m\u001b[38;5;241m.\u001b[39mMca(datadir\u001b[38;5;241m+\u001b[39mfname)\n\u001b[1;32m      6\u001b[0m x,y \u001b[38;5;241m=\u001b[39m s\u001b[38;5;241m.\u001b[39mget_points(trim_zeros \u001b[38;5;241m=\u001b[39m \u001b[38;5;28;01mFalse\u001b[39;00m)\n\u001b[1;32m      7\u001b[0m t \u001b[38;5;241m=\u001b[39m \u001b[38;5;28mfloat\u001b[39m(s\u001b[38;5;241m.\u001b[39mget_variable(\u001b[38;5;124m\"\u001b[39m\u001b[38;5;124mREAL_TIME\u001b[39m\u001b[38;5;124m\"\u001b[39m))\n",
      "\u001b[0;31mNameError\u001b[0m: name 'mca' is not defined"
     ]
    }
   ],
   "source": [
    "datadir = '/home/mossbauer/Data/mossbauer_data/'\n",
    "\n",
    "\n",
    "fname = '20240117_spectra/live_data_20240116_1inch_Fe10um.mca'\n",
    "s = mca.Mca(datadir+fname)\n",
    "x,y = s.get_points(trim_zeros = False)\n",
    "t = float(s.get_variable(\"REAL_TIME\"))\n",
    "#plt.plot(x,y/t)\n",
    "#plt.plot(x[215:250],y[215:250]/t)\n",
    "\n",
    "\n",
    "fname = '20240117_spectra/live_data_20240117_7inch_noabsorber.mca'\n",
    "s = mca.Mca(datadir+fname)\n",
    "x,y = s.get_points(trim_zeros = False)\n",
    "t = float(s.get_variable(\"REAL_TIME\"))\n",
    "plt.plot(x,y/t)\n",
    "plt.plot(x[215:250],y[215:250]/t)\n",
    "\n",
    "\n",
    "fname = '20240117_spectra/live_data_20240117_7inch_Fe10um.mca'\n",
    "s = mca.Mca(datadir+fname)\n",
    "x,y = s.get_points(trim_zeros = False)\n",
    "t = float(s.get_variable(\"REAL_TIME\"))\n",
    "plt.plot(x,y/t)\n",
    "plt.plot(x[215:250],y[215:250]/t)\n",
    "\n",
    "\n",
    "\n",
    "\n",
    "#plt.xlim(100,500)\n",
    "plt.yscale(\"log\")\n"
   ]
  },
  {
   "cell_type": "code",
   "execution_count": 57,
   "id": "cc5b4e36-35e6-4630-8cbd-2eadc8d69dc0",
   "metadata": {
    "tags": []
   },
   "outputs": [
    {
     "data": {
      "text/plain": [
       "296.70470390711705"
      ]
     },
     "execution_count": 57,
     "metadata": {},
     "output_type": "execute_result"
    }
   ],
   "source": [
    "y[215:250].sum()/t"
   ]
  },
  {
   "cell_type": "code",
   "execution_count": null,
   "id": "d308071e-7ab1-4824-89ae-890819d58fb7",
   "metadata": {},
   "outputs": [],
   "source": []
  }
 ],
 "metadata": {
  "kernelspec": {
   "display_name": "Python 3.9 for JupyterHub",
   "language": "python",
   "name": "python3"
  },
  "language_info": {
   "codemirror_mode": {
    "name": "ipython",
    "version": 3
   },
   "file_extension": ".py",
   "mimetype": "text/x-python",
   "name": "python",
   "nbconvert_exporter": "python",
   "pygments_lexer": "ipython3",
   "version": "3.9.16"
  }
 },
 "nbformat": 4,
 "nbformat_minor": 5
}
