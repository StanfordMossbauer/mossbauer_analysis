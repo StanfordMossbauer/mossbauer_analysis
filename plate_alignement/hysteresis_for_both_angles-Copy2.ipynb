import pandas as pd
import matplotlib.pyplot as plt
import numpy as np
import time
import statistics
import os
import matplotlib.dates as mdates
import sympy as sp
from scipy.optimize import curve_fit
import datetime as datetime
Fmt = mdates.DateFormatter('%H%M%S')
%matplotlib widget

loaddirectory = '..\\data\\20231107_alignment\\'
filename = 'HysteresisTest20231107_151912_11.023_phi.npy'
data = np.load(loaddirectory+filename, allow_pickle = True)
newdata=np.transpose(data)

#fitting function
def func(angle, A, B, angle_0):
    return A + B*(angle-angle_0)**2

initial_guess = [0, 0, 0]

# Create a DataFrame with meaningful column names
df = pd.DataFrame({
    'x1': newdata[0],
    'x2': newdata[1],
    'x3': newdata[2],
    'angle': newdata[3],
    'c': newdata[4],
    'l': newdata[5],
    'v': newdata[6],
    'time': newdata[7],
    'axis': newdata[8]
})

# Create DataFrames for 'theta' and 'phi' while maintaining the original order
df_theta = df[df['axis'] == 'theta'].copy()
df_phi = df[df['axis'] == 'phi'].copy()

df_theta

plt.figure(1, figsize=(8,4))

# Define the number of points to group by color
points_per_color = 15
num_points = len(df_theta)

# Generate a list of colors to cycle through
colors = ['b', 'g', 'r', 'c', 'm', 'y', 'k', 'pink', 'purple', 'hotpink', 'midnightblue']

for i in range(0, num_points, points_per_color):
    subset = df_theta.iloc[i:i + points_per_color]
    color = colors[i // points_per_color % len(colors)]  # Calculate the color for this subset
    plt.plot(subset['angle'], subset['c'], '.', label=f'Points {i+1}-{i+points_per_color}', color=color)
# plt.plot(df_theta['angle'], df_theta['c'], '.')
plt.xlabel('theta[rad]')
plt.ylabel('C[F]')
plt.show()

# for theta
theta_0 = []
   
plt.figure(2, figsize=(8,4))

# Define the number of points to group by color
points_per_color = 15
num_points = len(df_phi)

# Generate a list of colors to cycle through
colors = ['b', 'g', 'r', 'c', 'm', 'y', 'k', 'pink', 'purple', 'hotpink', 'midnightblue']

for i in range(0, num_points, points_per_color):
    subset = df_phi.iloc[i:i + points_per_color]
    color = colors[i // points_per_color % len(colors)]  # Calculate the color for this subset
    plt.plot(subset['angle'], subset['c'], '.', label=f'Points {i+1}-{i+points_per_color}', color=color)
    
    #fit the data to the points
    parameters, covariance = curve_fit(func, subset['angle'], subset['c'], p0=initial_guess)
    
    #get fitted parameters
    A_fit, B_fit, angle_0_fit = parameters
    
    theta_0.append(angle_0_fit)
    
    
    
    plt.plot(subset['angle'], func(subset['angle'], A_fit, B_fit, angle_0_fit), color = color)
    
plt.xlabel('theta[rad]')
plt.ylabel('C[F]')
plt.show()

# Mittelwert berechnen
mean_theta = statistics.mean(theta_0)

# Standardabweichung berechnen
std_dev_theta = statistics.stdev(theta_0)

mean_theta, std_dev_theta

max(theta_0)-min(theta_0)

# get capacitance hysteresis for the different points
c_theta = []
c_theta_error = []
c_hyst = []
for i in range(0, num_points, points_per_color):
    subset = df_phi.iloc[i:i + points_per_color]
    c_hyst.append(max(subset['c'])-min(subset['c']))
    c_theta.append(statistics.mean(subset['c']))
    c_theta_error.append(statistics.stdev(subset['c']))

# hysteresis:
max(max_theta)-min(min_theta)

plt.figure(3, figsize=(8,4))

# Define the number of points to group by color
points_per_color = 15
num_points = len(df_phi)

# Generate a list of colors to cycle through
colors = ['b', 'g', 'r', 'c', 'm', 'y', 'k', 'pink', 'purple', 'hotpink', 'midnightblue']

for i in range(0, num_points, points_per_color):
    subset = df_phi.iloc[i:i + points_per_color]
    color = colors[i // points_per_color % len(colors)]  # Calculate the color for this subset
    plt.plot(subset['angle'], subset['c'], '.', label=f'Points {i+1}-{i+points_per_color}', color=color)
# plt.plot(df_phi['angle'], df_phi['c'], '.')
plt.xlabel('phi[rad]')
plt.ylabel('C[F]')
plt.show()

# for phi
phi_0 = []
   
plt.figure(5, figsize=(8,4))

# Define the number of points to group by color
points_per_color = 15
num_points = len(df_phi)

# Generate a list of colors to cycle through
colors = ['b', 'g', 'r', 'c', 'm', 'y', 'k', 'pink', 'purple', 'hotpink', 'midnightblue']

for i in range(0, num_points, points_per_color):
    subset = df_phi.iloc[i:i + points_per_color]
    color = colors[i // points_per_color % len(colors)]  # Calculate the color for this subset
    plt.plot(subset['angle'], subset['c'], '.', label=f'Points {i+1}-{i+points_per_color}', color=color)
    
    #fit the data to the points
    parameters, covariance = curve_fit(func, subset['angle'], subset['c'], p0=initial_guess)
    
    #get fitted parameters
    A_fit, B_fit, angle_0_fit = parameters
    
    phi_0.append(angle_0_fit)
    
    
    
    plt.plot(subset['angle'], func(subset['angle'], A_fit, B_fit, angle_0_fit), color = color)
    
plt.xlabel('phi[rad]')
plt.ylabel('C[F]')
plt.show()



max(phi_0)-min(phi_0)

